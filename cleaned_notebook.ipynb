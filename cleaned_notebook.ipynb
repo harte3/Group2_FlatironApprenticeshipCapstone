{
 "cells": [
  {
   "cell_type": "markdown",
   "metadata": {},
   "source": [
    "# Stroke Prediction Analysis for Government Awareness Campaign"
   ]
  },
  {
   "cell_type": "markdown",
   "metadata": {},
   "source": [
    "## Introduction\n",
    "In this notebook, we'll use the healthcare stroke dataset from Kaggle [more info about dataset here] to discern the factors that increase a person's likelihood of experiencing a stroke. We will perform [xyz models] to perform an inference analysis on the dataset. "
   ]
  },
  {
   "cell_type": "markdown",
   "metadata": {},
   "source": [
    "## Import libraries"
   ]
  },
  {
   "cell_type": "code",
   "execution_count": 3,
   "metadata": {},
   "outputs": [],
   "source": [
    "import pandas as pd\n",
    "import numpy as np\n",
    "np.random.seed(42)\n",
    "from pandas import get_dummies\n",
    "import matplotlib.pyplot as plt\n",
    "from sklearn.model_selection import train_test_split, StratifiedKFold,\\\n",
    "cross_val_score, cross_validate, GridSearchCV\n",
    "from sklearn.neighbors import KNeighborsClassifier\n",
    "from sklearn.linear_model import LogisticRegression\n",
    "from sklearn.svm import SVC\n",
    "from sklearn.metrics import accuracy_score, confusion_matrix, roc_curve, auc,\\\n",
    "classification_report, make_scorer, recall_score, mean_squared_error\n",
    "from sklearn.metrics import roc_auc_score as ras\n",
    "from sklearn.tree import DecisionTreeClassifier\n",
    "from xgboost import XGBClassifier\n",
    "from sklearn.ensemble import BaggingClassifier, RandomForestClassifier,\\\n",
    "ExtraTreesClassifier, VotingClassifier, StackingRegressor\n",
    "from sklearn.impute import SimpleImputer, KNNImputer\n",
    "from sklearn.preprocessing import LabelEncoder, OneHotEncoder,\\\n",
    "StandardScaler, MinMaxScaler, normalize\n",
    "from imblearn.over_sampling import SMOTE, RandomOverSampler\n",
    "import warnings\n",
    "warnings.filterwarnings('ignore')"
   ]
  },
  {
   "cell_type": "markdown",
   "metadata": {},
   "source": [
    "## Importing and previewing the dataset"
   ]
  },
  {
   "cell_type": "code",
   "execution_count": 4,
   "metadata": {},
   "outputs": [
    {
     "data": {
      "text/html": [
       "<div>\n",
       "<style scoped>\n",
       "    .dataframe tbody tr th:only-of-type {\n",
       "        vertical-align: middle;\n",
       "    }\n",
       "\n",
       "    .dataframe tbody tr th {\n",
       "        vertical-align: top;\n",
       "    }\n",
       "\n",
       "    .dataframe thead th {\n",
       "        text-align: right;\n",
       "    }\n",
       "</style>\n",
       "<table border=\"1\" class=\"dataframe\">\n",
       "  <thead>\n",
       "    <tr style=\"text-align: right;\">\n",
       "      <th></th>\n",
       "      <th>id</th>\n",
       "      <th>gender</th>\n",
       "      <th>age</th>\n",
       "      <th>hypertension</th>\n",
       "      <th>heart_disease</th>\n",
       "      <th>ever_married</th>\n",
       "      <th>work_type</th>\n",
       "      <th>Residence_type</th>\n",
       "      <th>avg_glucose_level</th>\n",
       "      <th>bmi</th>\n",
       "      <th>smoking_status</th>\n",
       "      <th>stroke</th>\n",
       "    </tr>\n",
       "  </thead>\n",
       "  <tbody>\n",
       "    <tr>\n",
       "      <th>0</th>\n",
       "      <td>9046</td>\n",
       "      <td>Male</td>\n",
       "      <td>67.0</td>\n",
       "      <td>0</td>\n",
       "      <td>1</td>\n",
       "      <td>Yes</td>\n",
       "      <td>Private</td>\n",
       "      <td>Urban</td>\n",
       "      <td>228.69</td>\n",
       "      <td>36.6</td>\n",
       "      <td>formerly smoked</td>\n",
       "      <td>1</td>\n",
       "    </tr>\n",
       "    <tr>\n",
       "      <th>1</th>\n",
       "      <td>51676</td>\n",
       "      <td>Female</td>\n",
       "      <td>61.0</td>\n",
       "      <td>0</td>\n",
       "      <td>0</td>\n",
       "      <td>Yes</td>\n",
       "      <td>Self-employed</td>\n",
       "      <td>Rural</td>\n",
       "      <td>202.21</td>\n",
       "      <td>NaN</td>\n",
       "      <td>never smoked</td>\n",
       "      <td>1</td>\n",
       "    </tr>\n",
       "    <tr>\n",
       "      <th>2</th>\n",
       "      <td>31112</td>\n",
       "      <td>Male</td>\n",
       "      <td>80.0</td>\n",
       "      <td>0</td>\n",
       "      <td>1</td>\n",
       "      <td>Yes</td>\n",
       "      <td>Private</td>\n",
       "      <td>Rural</td>\n",
       "      <td>105.92</td>\n",
       "      <td>32.5</td>\n",
       "      <td>never smoked</td>\n",
       "      <td>1</td>\n",
       "    </tr>\n",
       "    <tr>\n",
       "      <th>3</th>\n",
       "      <td>60182</td>\n",
       "      <td>Female</td>\n",
       "      <td>49.0</td>\n",
       "      <td>0</td>\n",
       "      <td>0</td>\n",
       "      <td>Yes</td>\n",
       "      <td>Private</td>\n",
       "      <td>Urban</td>\n",
       "      <td>171.23</td>\n",
       "      <td>34.4</td>\n",
       "      <td>smokes</td>\n",
       "      <td>1</td>\n",
       "    </tr>\n",
       "    <tr>\n",
       "      <th>4</th>\n",
       "      <td>1665</td>\n",
       "      <td>Female</td>\n",
       "      <td>79.0</td>\n",
       "      <td>1</td>\n",
       "      <td>0</td>\n",
       "      <td>Yes</td>\n",
       "      <td>Self-employed</td>\n",
       "      <td>Rural</td>\n",
       "      <td>174.12</td>\n",
       "      <td>24.0</td>\n",
       "      <td>never smoked</td>\n",
       "      <td>1</td>\n",
       "    </tr>\n",
       "  </tbody>\n",
       "</table>\n",
       "</div>"
      ],
      "text/plain": [
       "      id  gender   age  hypertension  heart_disease ever_married  \\\n",
       "0   9046    Male  67.0             0              1          Yes   \n",
       "1  51676  Female  61.0             0              0          Yes   \n",
       "2  31112    Male  80.0             0              1          Yes   \n",
       "3  60182  Female  49.0             0              0          Yes   \n",
       "4   1665  Female  79.0             1              0          Yes   \n",
       "\n",
       "       work_type Residence_type  avg_glucose_level   bmi   smoking_status  \\\n",
       "0        Private          Urban             228.69  36.6  formerly smoked   \n",
       "1  Self-employed          Rural             202.21   NaN     never smoked   \n",
       "2        Private          Rural             105.92  32.5     never smoked   \n",
       "3        Private          Urban             171.23  34.4           smokes   \n",
       "4  Self-employed          Rural             174.12  24.0     never smoked   \n",
       "\n",
       "   stroke  \n",
       "0       1  \n",
       "1       1  \n",
       "2       1  \n",
       "3       1  \n",
       "4       1  "
      ]
     },
     "execution_count": 4,
     "metadata": {},
     "output_type": "execute_result"
    }
   ],
   "source": [
    "df = pd.read_csv(\"healthcare-dataset-stroke-data.csv\")\n",
    "df.head()"
   ]
  },
  {
   "cell_type": "markdown",
   "metadata": {},
   "source": [
    "Before we start, we'll drop the id column, as that provides no value to our analysis. "
   ]
  },
  {
   "cell_type": "code",
   "execution_count": 5,
   "metadata": {},
   "outputs": [],
   "source": [
    "df.drop(\"id\", axis=1, inplace=True)"
   ]
  },
  {
   "cell_type": "markdown",
   "metadata": {},
   "source": [
    "In total, there are 10 predictors, and one outcome variable, stroke - 1 for yes and 0 for no.\n",
    "\n",
    "The 10 predictors are:\n",
    "\n",
    "- `gender`: Female, Male \n",
    "\n",
    "- `age`: Continuous\n",
    "\n",
    "- `hypertension`: 0, 1\n",
    "\n",
    "- `heart_disease`: 0, 1\n",
    "\n",
    "- `ever_married`: Yes, No\n",
    "\n",
    "- `work_type`: Private, Self-employed, children, Govt_job, Never_worked\n",
    "\n",
    "- `Residence_type`: Urban, Rural\n",
    "\n",
    "- `avg_glucose_level`: Continuous\n",
    "\n",
    "- `bmi`: Continuous, including some NaN values\n",
    "\n",
    "- `smoking_status`: never smoked, Unknown, formerly smoked, smokes\n",
    "\n",
    "\n",
    "We'll start by encoding the categorical data. Since the categorical columns are nominal, meaning the categories are not hierarchical, we'll use one-hot-encoding. After encoding the categorical columns, we'll address the NaN values in the bmi column by using simple_imputer to replace null values with the predicted K nearest neighbor (KNN) value. "
   ]
  },
  {
   "cell_type": "code",
   "execution_count": 6,
   "metadata": {},
   "outputs": [
    {
     "data": {
      "text/plain": [
       "gender                object\n",
       "age                  float64\n",
       "hypertension           int64\n",
       "heart_disease          int64\n",
       "ever_married          object\n",
       "work_type             object\n",
       "Residence_type        object\n",
       "avg_glucose_level    float64\n",
       "bmi                  float64\n",
       "smoking_status        object\n",
       "stroke                 int64\n",
       "dtype: object"
      ]
     },
     "execution_count": 6,
     "metadata": {},
     "output_type": "execute_result"
    }
   ],
   "source": [
    "df.dtypes"
   ]
  },
  {
   "cell_type": "code",
   "execution_count": 7,
   "metadata": {
    "scrolled": true
   },
   "outputs": [
    {
     "data": {
      "text/plain": [
       "Female    2994\n",
       "Male      2115\n",
       "Other        1\n",
       "Name: gender, dtype: int64"
      ]
     },
     "execution_count": 7,
     "metadata": {},
     "output_type": "execute_result"
    }
   ],
   "source": [
    "df[\"gender\"].value_counts()"
   ]
  },
  {
   "cell_type": "markdown",
   "metadata": {},
   "source": [
    "It doesn't make sense to create a new category for \"Other\" since only one person identified as that, so we'll drop it. "
   ]
  },
  {
   "cell_type": "code",
   "execution_count": 8,
   "metadata": {},
   "outputs": [
    {
     "data": {
      "text/plain": [
       "Female    2994\n",
       "Male      2115\n",
       "Name: gender, dtype: int64"
      ]
     },
     "execution_count": 8,
     "metadata": {},
     "output_type": "execute_result"
    }
   ],
   "source": [
    "# LabelEncoder\n",
    "df = df[df[\"gender\"]!=\"Other\"]\n",
    "df[\"gender\"].value_counts()"
   ]
  },
  {
   "cell_type": "code",
   "execution_count": 9,
   "metadata": {},
   "outputs": [
    {
     "data": {
      "text/plain": [
       "(5109, 11)"
      ]
     },
     "execution_count": 9,
     "metadata": {},
     "output_type": "execute_result"
    }
   ],
   "source": [
    "df.shape"
   ]
  },
  {
   "cell_type": "code",
   "execution_count": 10,
   "metadata": {},
   "outputs": [
    {
     "data": {
      "text/plain": [
       "(array([1025., 1291., 1565., 1228.]),\n",
       " array([8.000e-02, 2.056e+01, 4.104e+01, 6.152e+01, 8.200e+01]),\n",
       " <BarContainer object of 4 artists>)"
      ]
     },
     "execution_count": 10,
     "metadata": {},
     "output_type": "execute_result"
    },
    {
     "data": {
      "image/png": "[encoded data removed]",
      "text/plain": [
       "<Figure size 432x288 with 1 Axes>"
      ]
     },
     "metadata": {
      "needs_background": "light"
     },
     "output_type": "display_data"
    }
   ],
   "source": [
    "plt.hist(df[\"age\"], bins=4)"
   ]
  },
  {
   "cell_type": "code",
   "execution_count": 11,
   "metadata": {},
   "outputs": [],
   "source": [
    "# df.drop(\"age\", axis=1, inplace=True)"
   ]
  },
  {
   "cell_type": "code",
   "execution_count": 12,
   "metadata": {},
   "outputs": [
    {
     "data": {
      "text/plain": [
       "Yes    3353\n",
       "No     1756\n",
       "Name: ever_married, dtype: int64"
      ]
     },
     "execution_count": 12,
     "metadata": {},
     "output_type": "execute_result"
    }
   ],
   "source": [
    "# OHE\n",
    "df[\"ever_married\"].value_counts()"
   ]
  },
  {
   "cell_type": "code",
   "execution_count": 13,
   "metadata": {},
   "outputs": [
    {
     "data": {
      "text/plain": [
       "Urban    2596\n",
       "Rural    2513\n",
       "Name: Residence_type, dtype: int64"
      ]
     },
     "execution_count": 13,
     "metadata": {},
     "output_type": "execute_result"
    }
   ],
   "source": [
    "# OHE\n",
    "df[\"Residence_type\"].value_counts()"
   ]
  },
  {
   "cell_type": "code",
   "execution_count": 14,
   "metadata": {},
   "outputs": [
    {
     "data": {
      "text/plain": [
       "Private          2924\n",
       "Self-employed     819\n",
       "children          687\n",
       "Govt_job          657\n",
       "Never_worked       22\n",
       "Name: work_type, dtype: int64"
      ]
     },
     "execution_count": 14,
     "metadata": {},
     "output_type": "execute_result"
    }
   ],
   "source": [
    "# OHE\n",
    "df[\"work_type\"].value_counts()"
   ]
  },
  {
   "cell_type": "code",
   "execution_count": 15,
   "metadata": {},
   "outputs": [
    {
     "data": {
      "text/plain": [
       "never smoked       1892\n",
       "Unknown            1544\n",
       "formerly smoked     884\n",
       "smokes              789\n",
       "Name: smoking_status, dtype: int64"
      ]
     },
     "execution_count": 15,
     "metadata": {},
     "output_type": "execute_result"
    }
   ],
   "source": [
    "# OHE\n",
    "df[\"smoking_status\"].value_counts()"
   ]
  },
  {
   "cell_type": "code",
   "execution_count": 16,
   "metadata": {},
   "outputs": [
    {
     "data": {
      "text/html": [
       "<div>\n",
       "<style scoped>\n",
       "    .dataframe tbody tr th:only-of-type {\n",
       "        vertical-align: middle;\n",
       "    }\n",
       "\n",
       "    .dataframe tbody tr th {\n",
       "        vertical-align: top;\n",
       "    }\n",
       "\n",
       "    .dataframe thead th {\n",
       "        text-align: right;\n",
       "    }\n",
       "</style>\n",
       "<table border=\"1\" class=\"dataframe\">\n",
       "  <thead>\n",
       "    <tr style=\"text-align: right;\">\n",
       "      <th></th>\n",
       "      <th>gender</th>\n",
       "      <th>ever_married</th>\n",
       "      <th>work_type</th>\n",
       "      <th>Residence_type</th>\n",
       "      <th>smoking_status</th>\n",
       "    </tr>\n",
       "  </thead>\n",
       "  <tbody>\n",
       "    <tr>\n",
       "      <th>0</th>\n",
       "      <td>Male</td>\n",
       "      <td>Yes</td>\n",
       "      <td>Private</td>\n",
       "      <td>Urban</td>\n",
       "      <td>formerly smoked</td>\n",
       "    </tr>\n",
       "    <tr>\n",
       "      <th>1</th>\n",
       "      <td>Female</td>\n",
       "      <td>Yes</td>\n",
       "      <td>Self-employed</td>\n",
       "      <td>Rural</td>\n",
       "      <td>never smoked</td>\n",
       "    </tr>\n",
       "    <tr>\n",
       "      <th>2</th>\n",
       "      <td>Male</td>\n",
       "      <td>Yes</td>\n",
       "      <td>Private</td>\n",
       "      <td>Rural</td>\n",
       "      <td>never smoked</td>\n",
       "    </tr>\n",
       "    <tr>\n",
       "      <th>3</th>\n",
       "      <td>Female</td>\n",
       "      <td>Yes</td>\n",
       "      <td>Private</td>\n",
       "      <td>Urban</td>\n",
       "      <td>smokes</td>\n",
       "    </tr>\n",
       "    <tr>\n",
       "      <th>4</th>\n",
       "      <td>Female</td>\n",
       "      <td>Yes</td>\n",
       "      <td>Self-employed</td>\n",
       "      <td>Rural</td>\n",
       "      <td>never smoked</td>\n",
       "    </tr>\n",
       "  </tbody>\n",
       "</table>\n",
       "</div>"
      ],
      "text/plain": [
       "   gender ever_married      work_type Residence_type   smoking_status\n",
       "0    Male          Yes        Private          Urban  formerly smoked\n",
       "1  Female          Yes  Self-employed          Rural     never smoked\n",
       "2    Male          Yes        Private          Rural     never smoked\n",
       "3  Female          Yes        Private          Urban           smokes\n",
       "4  Female          Yes  Self-employed          Rural     never smoked"
      ]
     },
     "execution_count": 16,
     "metadata": {},
     "output_type": "execute_result"
    }
   ],
   "source": [
    "df.select_dtypes(include=['object']).head()"
   ]
  },
  {
   "cell_type": "code",
   "execution_count": 18,
   "metadata": {},
   "outputs": [
    {
     "data": {
      "text/html": [
       "<div>\n",
       "<style scoped>\n",
       "    .dataframe tbody tr th:only-of-type {\n",
       "        vertical-align: middle;\n",
       "    }\n",
       "\n",
       "    .dataframe tbody tr th {\n",
       "        vertical-align: top;\n",
       "    }\n",
       "\n",
       "    .dataframe thead th {\n",
       "        text-align: right;\n",
       "    }\n",
       "</style>\n",
       "<table border=\"1\" class=\"dataframe\">\n",
       "  <thead>\n",
       "    <tr style=\"text-align: right;\">\n",
       "      <th></th>\n",
       "      <th>gender_Male</th>\n",
       "      <th>ever_married_Yes</th>\n",
       "      <th>work_type_Never_worked</th>\n",
       "      <th>work_type_Private</th>\n",
       "      <th>work_type_Self-employed</th>\n",
       "      <th>work_type_children</th>\n",
       "      <th>Residence_type_Urban</th>\n",
       "      <th>smoking_status_formerly smoked</th>\n",
       "      <th>smoking_status_never smoked</th>\n",
       "      <th>smoking_status_smokes</th>\n",
       "    </tr>\n",
       "  </thead>\n",
       "  <tbody>\n",
       "    <tr>\n",
       "      <th>0</th>\n",
       "      <td>1.0</td>\n",
       "      <td>1.0</td>\n",
       "      <td>0.0</td>\n",
       "      <td>1.0</td>\n",
       "      <td>0.0</td>\n",
       "      <td>0.0</td>\n",
       "      <td>1.0</td>\n",
       "      <td>1.0</td>\n",
       "      <td>0.0</td>\n",
       "      <td>0.0</td>\n",
       "    </tr>\n",
       "    <tr>\n",
       "      <th>1</th>\n",
       "      <td>0.0</td>\n",
       "      <td>1.0</td>\n",
       "      <td>0.0</td>\n",
       "      <td>0.0</td>\n",
       "      <td>1.0</td>\n",
       "      <td>0.0</td>\n",
       "      <td>0.0</td>\n",
       "      <td>0.0</td>\n",
       "      <td>1.0</td>\n",
       "      <td>0.0</td>\n",
       "    </tr>\n",
       "    <tr>\n",
       "      <th>2</th>\n",
       "      <td>1.0</td>\n",
       "      <td>1.0</td>\n",
       "      <td>0.0</td>\n",
       "      <td>1.0</td>\n",
       "      <td>0.0</td>\n",
       "      <td>0.0</td>\n",
       "      <td>0.0</td>\n",
       "      <td>0.0</td>\n",
       "      <td>1.0</td>\n",
       "      <td>0.0</td>\n",
       "    </tr>\n",
       "    <tr>\n",
       "      <th>3</th>\n",
       "      <td>0.0</td>\n",
       "      <td>1.0</td>\n",
       "      <td>0.0</td>\n",
       "      <td>1.0</td>\n",
       "      <td>0.0</td>\n",
       "      <td>0.0</td>\n",
       "      <td>1.0</td>\n",
       "      <td>0.0</td>\n",
       "      <td>0.0</td>\n",
       "      <td>1.0</td>\n",
       "    </tr>\n",
       "    <tr>\n",
       "      <th>4</th>\n",
       "      <td>0.0</td>\n",
       "      <td>1.0</td>\n",
       "      <td>0.0</td>\n",
       "      <td>0.0</td>\n",
       "      <td>1.0</td>\n",
       "      <td>0.0</td>\n",
       "      <td>0.0</td>\n",
       "      <td>0.0</td>\n",
       "      <td>1.0</td>\n",
       "      <td>0.0</td>\n",
       "    </tr>\n",
       "    <tr>\n",
       "      <th>...</th>\n",
       "      <td>...</td>\n",
       "      <td>...</td>\n",
       "      <td>...</td>\n",
       "      <td>...</td>\n",
       "      <td>...</td>\n",
       "      <td>...</td>\n",
       "      <td>...</td>\n",
       "      <td>...</td>\n",
       "      <td>...</td>\n",
       "      <td>...</td>\n",
       "    </tr>\n",
       "    <tr>\n",
       "      <th>5104</th>\n",
       "      <td>0.0</td>\n",
       "      <td>1.0</td>\n",
       "      <td>0.0</td>\n",
       "      <td>1.0</td>\n",
       "      <td>0.0</td>\n",
       "      <td>0.0</td>\n",
       "      <td>1.0</td>\n",
       "      <td>0.0</td>\n",
       "      <td>1.0</td>\n",
       "      <td>0.0</td>\n",
       "    </tr>\n",
       "    <tr>\n",
       "      <th>5105</th>\n",
       "      <td>0.0</td>\n",
       "      <td>1.0</td>\n",
       "      <td>0.0</td>\n",
       "      <td>0.0</td>\n",
       "      <td>1.0</td>\n",
       "      <td>0.0</td>\n",
       "      <td>1.0</td>\n",
       "      <td>0.0</td>\n",
       "      <td>1.0</td>\n",
       "      <td>0.0</td>\n",
       "    </tr>\n",
       "    <tr>\n",
       "      <th>5106</th>\n",
       "      <td>0.0</td>\n",
       "      <td>1.0</td>\n",
       "      <td>0.0</td>\n",
       "      <td>0.0</td>\n",
       "      <td>1.0</td>\n",
       "      <td>0.0</td>\n",
       "      <td>0.0</td>\n",
       "      <td>0.0</td>\n",
       "      <td>1.0</td>\n",
       "      <td>0.0</td>\n",
       "    </tr>\n",
       "    <tr>\n",
       "      <th>5107</th>\n",
       "      <td>1.0</td>\n",
       "      <td>1.0</td>\n",
       "      <td>0.0</td>\n",
       "      <td>1.0</td>\n",
       "      <td>0.0</td>\n",
       "      <td>0.0</td>\n",
       "      <td>0.0</td>\n",
       "      <td>1.0</td>\n",
       "      <td>0.0</td>\n",
       "      <td>0.0</td>\n",
       "    </tr>\n",
       "    <tr>\n",
       "      <th>5108</th>\n",
       "      <td>0.0</td>\n",
       "      <td>1.0</td>\n",
       "      <td>0.0</td>\n",
       "      <td>0.0</td>\n",
       "      <td>0.0</td>\n",
       "      <td>0.0</td>\n",
       "      <td>1.0</td>\n",
       "      <td>0.0</td>\n",
       "      <td>0.0</td>\n",
       "      <td>0.0</td>\n",
       "    </tr>\n",
       "  </tbody>\n",
       "</table>\n",
       "<p>5109 rows × 10 columns</p>\n",
       "</div>"
      ],
      "text/plain": [
       "      gender_Male  ever_married_Yes  work_type_Never_worked  \\\n",
       "0             1.0               1.0                     0.0   \n",
       "1             0.0               1.0                     0.0   \n",
       "2             1.0               1.0                     0.0   \n",
       "3             0.0               1.0                     0.0   \n",
       "4             0.0               1.0                     0.0   \n",
       "...           ...               ...                     ...   \n",
       "5104          0.0               1.0                     0.0   \n",
       "5105          0.0               1.0                     0.0   \n",
       "5106          0.0               1.0                     0.0   \n",
       "5107          1.0               1.0                     0.0   \n",
       "5108          0.0               1.0                     0.0   \n",
       "\n",
       "      work_type_Private  work_type_Self-employed  work_type_children  \\\n",
       "0                   1.0                      0.0                 0.0   \n",
       "1                   0.0                      1.0                 0.0   \n",
       "2                   1.0                      0.0                 0.0   \n",
       "3                   1.0                      0.0                 0.0   \n",
       "4                   0.0                      1.0                 0.0   \n",
       "...                 ...                      ...                 ...   \n",
       "5104                1.0                      0.0                 0.0   \n",
       "5105                0.0                      1.0                 0.0   \n",
       "5106                0.0                      1.0                 0.0   \n",
       "5107                1.0                      0.0                 0.0   \n",
       "5108                0.0                      0.0                 0.0   \n",
       "\n",
       "      Residence_type_Urban  smoking_status_formerly smoked  \\\n",
       "0                      1.0                             1.0   \n",
       "1                      0.0                             0.0   \n",
       "2                      0.0                             0.0   \n",
       "3                      1.0                             0.0   \n",
       "4                      0.0                             0.0   \n",
       "...                    ...                             ...   \n",
       "5104                   1.0                             0.0   \n",
       "5105                   1.0                             0.0   \n",
       "5106                   0.0                             0.0   \n",
       "5107                   0.0                             1.0   \n",
       "5108                   1.0                             0.0   \n",
       "\n",
       "      smoking_status_never smoked  smoking_status_smokes  \n",
       "0                             0.0                    0.0  \n",
       "1                             1.0                    0.0  \n",
       "2                             1.0                    0.0  \n",
       "3                             0.0                    1.0  \n",
       "4                             1.0                    0.0  \n",
       "...                           ...                    ...  \n",
       "5104                          1.0                    0.0  \n",
       "5105                          1.0                    0.0  \n",
       "5106                          1.0                    0.0  \n",
       "5107                          0.0                    0.0  \n",
       "5108                          0.0                    0.0  \n",
       "\n",
       "[5109 rows x 10 columns]"
      ]
     },
     "execution_count": 18,
     "metadata": {},
     "output_type": "execute_result"
    }
   ],
   "source": [
    "# pd.get_dummies(data, prefix = \"work_type\", drop_first=True, dtype=int)\n",
    "categorical = df.select_dtypes(include=['object'])\n",
    "\n",
    "ohe = OneHotEncoder(drop='first')\n",
    "ohe.fit(categorical)\n",
    "categorical_encoded = pd.DataFrame(ohe.transform(categorical).todense(),\n",
    "                               columns=ohe.get_feature_names_out())\n",
    "categorical_encoded"
   ]
  },
  {
   "cell_type": "code",
   "execution_count": 19,
   "metadata": {},
   "outputs": [
    {
     "data": {
      "text/html": [
       "<div>\n",
       "<style scoped>\n",
       "    .dataframe tbody tr th:only-of-type {\n",
       "        vertical-align: middle;\n",
       "    }\n",
       "\n",
       "    .dataframe tbody tr th {\n",
       "        vertical-align: top;\n",
       "    }\n",
       "\n",
       "    .dataframe thead th {\n",
       "        text-align: right;\n",
       "    }\n",
       "</style>\n",
       "<table border=\"1\" class=\"dataframe\">\n",
       "  <thead>\n",
       "    <tr style=\"text-align: right;\">\n",
       "      <th></th>\n",
       "      <th>age</th>\n",
       "      <th>hypertension</th>\n",
       "      <th>heart_disease</th>\n",
       "      <th>avg_glucose_level</th>\n",
       "      <th>bmi</th>\n",
       "      <th>stroke</th>\n",
       "    </tr>\n",
       "  </thead>\n",
       "  <tbody>\n",
       "    <tr>\n",
       "      <th>0</th>\n",
       "      <td>67.0</td>\n",
       "      <td>0</td>\n",
       "      <td>1</td>\n",
       "      <td>228.69</td>\n",
       "      <td>36.6</td>\n",
       "      <td>1</td>\n",
       "    </tr>\n",
       "    <tr>\n",
       "      <th>1</th>\n",
       "      <td>61.0</td>\n",
       "      <td>0</td>\n",
       "      <td>0</td>\n",
       "      <td>202.21</td>\n",
       "      <td>NaN</td>\n",
       "      <td>1</td>\n",
       "    </tr>\n",
       "    <tr>\n",
       "      <th>2</th>\n",
       "      <td>80.0</td>\n",
       "      <td>0</td>\n",
       "      <td>1</td>\n",
       "      <td>105.92</td>\n",
       "      <td>32.5</td>\n",
       "      <td>1</td>\n",
       "    </tr>\n",
       "    <tr>\n",
       "      <th>3</th>\n",
       "      <td>49.0</td>\n",
       "      <td>0</td>\n",
       "      <td>0</td>\n",
       "      <td>171.23</td>\n",
       "      <td>34.4</td>\n",
       "      <td>1</td>\n",
       "    </tr>\n",
       "    <tr>\n",
       "      <th>4</th>\n",
       "      <td>79.0</td>\n",
       "      <td>1</td>\n",
       "      <td>0</td>\n",
       "      <td>174.12</td>\n",
       "      <td>24.0</td>\n",
       "      <td>1</td>\n",
       "    </tr>\n",
       "  </tbody>\n",
       "</table>\n",
       "</div>"
      ],
      "text/plain": [
       "    age  hypertension  heart_disease  avg_glucose_level   bmi  stroke\n",
       "0  67.0             0              1             228.69  36.6       1\n",
       "1  61.0             0              0             202.21   NaN       1\n",
       "2  80.0             0              1             105.92  32.5       1\n",
       "3  49.0             0              0             171.23  34.4       1\n",
       "4  79.0             1              0             174.12  24.0       1"
      ]
     },
     "execution_count": 19,
     "metadata": {},
     "output_type": "execute_result"
    }
   ],
   "source": [
    "df_numeric = df.select_dtypes(\"number\")\n",
    "df_numeric.head()"
   ]
  },
  {
   "cell_type": "code",
   "execution_count": 20,
   "metadata": {},
   "outputs": [],
   "source": [
    "# df_numeric.drop(\"stroke\", axis=1, inplace=True)"
   ]
  },
  {
   "cell_type": "code",
   "execution_count": 21,
   "metadata": {},
   "outputs": [
    {
     "data": {
      "text/html": [
       "<div>\n",
       "<style scoped>\n",
       "    .dataframe tbody tr th:only-of-type {\n",
       "        vertical-align: middle;\n",
       "    }\n",
       "\n",
       "    .dataframe tbody tr th {\n",
       "        vertical-align: top;\n",
       "    }\n",
       "\n",
       "    .dataframe thead th {\n",
       "        text-align: right;\n",
       "    }\n",
       "</style>\n",
       "<table border=\"1\" class=\"dataframe\">\n",
       "  <thead>\n",
       "    <tr style=\"text-align: right;\">\n",
       "      <th></th>\n",
       "      <th>gender_Male</th>\n",
       "      <th>ever_married_Yes</th>\n",
       "      <th>work_type_Never_worked</th>\n",
       "      <th>work_type_Private</th>\n",
       "      <th>work_type_Self-employed</th>\n",
       "      <th>work_type_children</th>\n",
       "      <th>Residence_type_Urban</th>\n",
       "      <th>smoking_status_formerly smoked</th>\n",
       "      <th>smoking_status_never smoked</th>\n",
       "      <th>smoking_status_smokes</th>\n",
       "      <th>age</th>\n",
       "      <th>hypertension</th>\n",
       "      <th>heart_disease</th>\n",
       "      <th>avg_glucose_level</th>\n",
       "      <th>bmi</th>\n",
       "      <th>stroke</th>\n",
       "    </tr>\n",
       "  </thead>\n",
       "  <tbody>\n",
       "    <tr>\n",
       "      <th>0</th>\n",
       "      <td>1.0</td>\n",
       "      <td>1.0</td>\n",
       "      <td>0.0</td>\n",
       "      <td>1.0</td>\n",
       "      <td>0.0</td>\n",
       "      <td>0.0</td>\n",
       "      <td>1.0</td>\n",
       "      <td>1.0</td>\n",
       "      <td>0.0</td>\n",
       "      <td>0.0</td>\n",
       "      <td>67.0</td>\n",
       "      <td>0</td>\n",
       "      <td>1</td>\n",
       "      <td>228.69</td>\n",
       "      <td>36.6</td>\n",
       "      <td>1</td>\n",
       "    </tr>\n",
       "    <tr>\n",
       "      <th>1</th>\n",
       "      <td>0.0</td>\n",
       "      <td>1.0</td>\n",
       "      <td>0.0</td>\n",
       "      <td>0.0</td>\n",
       "      <td>1.0</td>\n",
       "      <td>0.0</td>\n",
       "      <td>0.0</td>\n",
       "      <td>0.0</td>\n",
       "      <td>1.0</td>\n",
       "      <td>0.0</td>\n",
       "      <td>61.0</td>\n",
       "      <td>0</td>\n",
       "      <td>0</td>\n",
       "      <td>202.21</td>\n",
       "      <td>NaN</td>\n",
       "      <td>1</td>\n",
       "    </tr>\n",
       "    <tr>\n",
       "      <th>2</th>\n",
       "      <td>1.0</td>\n",
       "      <td>1.0</td>\n",
       "      <td>0.0</td>\n",
       "      <td>1.0</td>\n",
       "      <td>0.0</td>\n",
       "      <td>0.0</td>\n",
       "      <td>0.0</td>\n",
       "      <td>0.0</td>\n",
       "      <td>1.0</td>\n",
       "      <td>0.0</td>\n",
       "      <td>80.0</td>\n",
       "      <td>0</td>\n",
       "      <td>1</td>\n",
       "      <td>105.92</td>\n",
       "      <td>32.5</td>\n",
       "      <td>1</td>\n",
       "    </tr>\n",
       "    <tr>\n",
       "      <th>3</th>\n",
       "      <td>0.0</td>\n",
       "      <td>1.0</td>\n",
       "      <td>0.0</td>\n",
       "      <td>1.0</td>\n",
       "      <td>0.0</td>\n",
       "      <td>0.0</td>\n",
       "      <td>1.0</td>\n",
       "      <td>0.0</td>\n",
       "      <td>0.0</td>\n",
       "      <td>1.0</td>\n",
       "      <td>49.0</td>\n",
       "      <td>0</td>\n",
       "      <td>0</td>\n",
       "      <td>171.23</td>\n",
       "      <td>34.4</td>\n",
       "      <td>1</td>\n",
       "    </tr>\n",
       "    <tr>\n",
       "      <th>4</th>\n",
       "      <td>0.0</td>\n",
       "      <td>1.0</td>\n",
       "      <td>0.0</td>\n",
       "      <td>0.0</td>\n",
       "      <td>1.0</td>\n",
       "      <td>0.0</td>\n",
       "      <td>0.0</td>\n",
       "      <td>0.0</td>\n",
       "      <td>1.0</td>\n",
       "      <td>0.0</td>\n",
       "      <td>79.0</td>\n",
       "      <td>1</td>\n",
       "      <td>0</td>\n",
       "      <td>174.12</td>\n",
       "      <td>24.0</td>\n",
       "      <td>1</td>\n",
       "    </tr>\n",
       "  </tbody>\n",
       "</table>\n",
       "</div>"
      ],
      "text/plain": [
       "   gender_Male  ever_married_Yes  work_type_Never_worked  work_type_Private  \\\n",
       "0          1.0               1.0                     0.0                1.0   \n",
       "1          0.0               1.0                     0.0                0.0   \n",
       "2          1.0               1.0                     0.0                1.0   \n",
       "3          0.0               1.0                     0.0                1.0   \n",
       "4          0.0               1.0                     0.0                0.0   \n",
       "\n",
       "   work_type_Self-employed  work_type_children  Residence_type_Urban  \\\n",
       "0                      0.0                 0.0                   1.0   \n",
       "1                      1.0                 0.0                   0.0   \n",
       "2                      0.0                 0.0                   0.0   \n",
       "3                      0.0                 0.0                   1.0   \n",
       "4                      1.0                 0.0                   0.0   \n",
       "\n",
       "   smoking_status_formerly smoked  smoking_status_never smoked  \\\n",
       "0                             1.0                          0.0   \n",
       "1                             0.0                          1.0   \n",
       "2                             0.0                          1.0   \n",
       "3                             0.0                          0.0   \n",
       "4                             0.0                          1.0   \n",
       "\n",
       "   smoking_status_smokes   age  hypertension  heart_disease  \\\n",
       "0                    0.0  67.0             0              1   \n",
       "1                    0.0  61.0             0              0   \n",
       "2                    0.0  80.0             0              1   \n",
       "3                    1.0  49.0             0              0   \n",
       "4                    0.0  79.0             1              0   \n",
       "\n",
       "   avg_glucose_level   bmi  stroke  \n",
       "0             228.69  36.6       1  \n",
       "1             202.21   NaN       1  \n",
       "2             105.92  32.5       1  \n",
       "3             171.23  34.4       1  \n",
       "4             174.12  24.0       1  "
      ]
     },
     "execution_count": 21,
     "metadata": {},
     "output_type": "execute_result"
    }
   ],
   "source": [
    "df_new = pd.concat([categorical_encoded.reset_index(), df_numeric.reset_index()], axis=1)\n",
    "df_new.drop(\"index\", axis=1, inplace=True)\n",
    "df_new.head()"
   ]
  },
  {
   "cell_type": "markdown",
   "metadata": {},
   "source": [
    "Now that the dataset is all numeric, we can use the KNNImputer tool to replace the null values in the BMI column. This should give us a better result than simply using the mean, median, or most frequent."
   ]
  },
  {
   "cell_type": "code",
   "execution_count": 22,
   "metadata": {},
   "outputs": [
    {
     "name": "stdout",
     "output_type": "stream",
     "text": [
      "Best Parameters:\n",
      "{'n_neighbors': 1}\n"
     ]
    }
   ],
   "source": [
    "# Split the data into features and target\n",
    "X = df_new.drop('bmi', axis=1)\n",
    "y = df_new['bmi']\n",
    "\n",
    "# Split the data into training and testing sets\n",
    "X_train, X_test, y_train, y_test = train_test_split(X, y, test_size=0.2, random_state=42)\n",
    "\n",
    "# Set up the KNNImputer and grid search\n",
    "param_grid = {'n_neighbors': [1, 2, 3, 4, 5]}\n",
    "knn_imputer = KNNImputer()\n",
    "grid_search = GridSearchCV(knn_imputer, param_grid, cv=5, scoring='neg_mean_squared_error')\n",
    "\n",
    "# Fit the grid search to the training data\n",
    "grid_search.fit(X_train, y_train)\n",
    "\n",
    "# Get the best parameters, including the best number of neighbors (k)\n",
    "best_params = grid_search.best_params_\n",
    "best_neighbors = best_params['n_neighbors']\n",
    "\n",
    "# Print the best parameters\n",
    "print(\"Best Parameters:\")\n",
    "print(best_params)"
   ]
  },
  {
   "cell_type": "code",
   "execution_count": 23,
   "metadata": {},
   "outputs": [],
   "source": [
    "knn_imputer = KNNImputer(n_neighbors=1)  # Adjust the number of neighbors as needed\n",
    "\n",
    "# Impute missing values in the DataFrame\n",
    "df_imputed = pd.DataFrame(knn_imputer.fit_transform(df_new), columns=df_new.columns)"
   ]
  },
  {
   "cell_type": "code",
   "execution_count": 24,
   "metadata": {},
   "outputs": [
    {
     "data": {
      "text/plain": [
       "False"
      ]
     },
     "execution_count": 24,
     "metadata": {},
     "output_type": "execute_result"
    }
   ],
   "source": [
    "df_imputed.isnull().values.any()"
   ]
  },
  {
   "cell_type": "code",
   "execution_count": 25,
   "metadata": {},
   "outputs": [
    {
     "data": {
      "text/plain": [
       "(5109, 16)"
      ]
     },
     "execution_count": 25,
     "metadata": {},
     "output_type": "execute_result"
    }
   ],
   "source": [
    "df_imputed.shape"
   ]
  },
  {
   "cell_type": "markdown",
   "metadata": {},
   "source": [
    "The last thing we should do is check for multicollinearity. If two features are too correlated, it will be difficult to determine which feature is impacting our results. Below, we check to see if any columns are <70% correlated."
   ]
  },
  {
   "cell_type": "code",
   "execution_count": 26,
   "metadata": {},
   "outputs": [
    {
     "data": {
      "text/plain": [
       "(5109, 16)"
      ]
     },
     "execution_count": 26,
     "metadata": {},
     "output_type": "execute_result"
    }
   ],
   "source": [
    "# Handling multicollinearity\n",
    "\n",
    "columns = list(df_imputed.columns)\n",
    "for col in columns:\n",
    "    if col == 'stroke':\n",
    "        continue\n",
    "\n",
    "    filtered_columns = [col]\n",
    "    for col1 in df_imputed.columns:\n",
    "        if((col == col1) | (col == 'stroke')):\n",
    "            continue\n",
    "\n",
    "        val = df_imputed[col].corr(df_imputed[col1])\n",
    "\n",
    "        if val > 0.7:\n",
    "            # If the correlation between the two\n",
    "            # features is more than 0.7 remove\n",
    "            columns.remove(col1)\n",
    "            continue\n",
    "        else:\n",
    "            filtered_columns.append(col1)\n",
    "\n",
    "    # After each iteration filter out the columns\n",
    "    # which are not highly correlated features.\n",
    "    df = df_imputed[filtered_columns]\n",
    "df.shape"
   ]
  },
  {
   "cell_type": "markdown",
   "metadata": {},
   "source": [
    "Our dimensions remain the same which means there were no feature correlations above our 70% threshold. We can begin training our models."
   ]
  },
  {
   "cell_type": "markdown",
   "metadata": {},
   "source": [
    "## Model Training\n",
    "\n",
    "Now that the dataset is cleaned, we can begin comparing the performance of various models. Since this is a binary classification problem, we'll try the following models:\n",
    "- Logistic regression\n",
    "- K Nearest Neighbor classifier\n",
    "- Decision Tree Classifier\n",
    "- Random Forest Classifier\n",
    "- XGBoost\n",
    "- Support vector machine (SVM)\n",
    "\n",
    "We'll also compare SMOTE to RandomOverSampler on our minority class and create a more balanced dataset for our target variable. This should help our model better predict when someone has actually experienced a stroke."
   ]
  },
  {
   "cell_type": "code",
   "execution_count": 27,
   "metadata": {},
   "outputs": [
    {
     "data": {
      "image/png": "[encoded data removed]",
      "text/plain": [
       "<Figure size 432x288 with 1 Axes>"
      ]
     },
     "metadata": {},
     "output_type": "display_data"
    }
   ],
   "source": [
    "target_dist = df['stroke'].value_counts()\n",
    "plt.pie(target_dist.values,\n",
    "        labels = target_dist.index,\n",
    "        autopct='%1.1f%%')\n",
    "plt.show()"
   ]
  },
  {
   "cell_type": "code",
   "execution_count": 28,
   "metadata": {},
   "outputs": [
    {
     "data": {
      "text/plain": [
       "((4087, 15), (1022, 15))"
      ]
     },
     "execution_count": 28,
     "metadata": {},
     "output_type": "execute_result"
    }
   ],
   "source": [
    "features = df.drop('stroke', axis=1)\n",
    "target = df['stroke']\n",
    " \n",
    "X_train, X_val, Y_train, Y_val = train_test_split(features, target, test_size=0.2, stratify=target, random_state=42)\n",
    "\n",
    "X_train.shape, X_val.shape"
   ]
  },
  {
   "cell_type": "markdown",
   "metadata": {},
   "source": [
    "### Model Selection"
   ]
  },
  {
   "cell_type": "code",
   "execution_count": 29,
   "metadata": {},
   "outputs": [
    {
     "name": "stdout",
     "output_type": "stream",
     "text": [
      "SMOTE(random_state=0) : \n",
      "___________________________________________\n",
      "LogisticRegression() : \n",
      "Training ROC AUC Score :  0.8538353740114143\n",
      "Validation ROC AUC Score :  0.8374279835390946\n",
      "\n",
      "Training Accuracy :  0.785108024691358\n",
      "Validation Accuracy :  0.7698559670781893\n",
      "\n",
      "Confusion Matrix:\n",
      "[[0.73971193 0.26028807]\n",
      " [0.2        0.8       ]]\n",
      "Recall: 0.8\n",
      "\n",
      "----------------------\n",
      "\n",
      "DecisionTreeClassifier() : \n",
      "Training ROC AUC Score :  1.0\n",
      "Validation ROC AUC Score :  0.5827366255144033\n",
      "\n",
      "Training Accuracy :  1.0\n",
      "Validation Accuracy :  0.5827366255144033\n",
      "\n",
      "Confusion Matrix:\n",
      "[[0.94547325 0.05452675]\n",
      " [0.78       0.22      ]]\n",
      "Recall: 0.22\n",
      "\n",
      "----------------------\n",
      "\n",
      "RandomForestClassifier() : \n",
      "Training ROC AUC Score :  1.0\n",
      "Validation ROC AUC Score :  0.7634259259259258\n",
      "\n",
      "Training Accuracy :  1.0\n",
      "Validation Accuracy :  0.5274279835390947\n",
      "\n",
      "Confusion Matrix:\n",
      "[[0.99485597 0.00514403]\n",
      " [0.94       0.06      ]]\n",
      "Recall: 0.06\n",
      "\n",
      "----------------------\n",
      "\n",
      "KNeighborsClassifier() : \n",
      "Training ROC AUC Score :  0.9982494014504903\n",
      "Validation ROC AUC Score :  0.6308333333333334\n",
      "\n",
      "Training Accuracy :  0.958204732510288\n",
      "Validation Accuracy :  0.5929012345679012\n",
      "\n",
      "Confusion Matrix:\n",
      "[[0.88580247 0.11419753]\n",
      " [0.7        0.3       ]]\n",
      "Recall: 0.3\n",
      "\n",
      "----------------------\n",
      "\n",
      "SVC(probability=True) : \n",
      "Training ROC AUC Score :  0.9887972409566631\n",
      "Validation ROC AUC Score :  0.7712345679012347\n",
      "\n",
      "Training Accuracy :  0.9448302469135802\n",
      "Validation Accuracy :  0.6253086419753087\n",
      "\n",
      "Confusion Matrix:\n",
      "[[0.95061728 0.04938272]\n",
      " [0.7        0.3       ]]\n",
      "Recall: 0.3\n",
      "\n",
      "----------------------\n",
      "\n",
      "XGBClassifier(base_score=0.5, booster='gbtree', colsample_bylevel=1,\n",
      "              colsample_bynode=1, colsample_bytree=1, gamma=0, gpu_id=-1,\n",
      "              importance_type='gain', interaction_constraints='',\n",
      "              learning_rate=0.300000012, max_delta_step=0, max_depth=6,\n",
      "              min_child_weight=1, missing=nan, monotone_constraints='()',\n",
      "              n_estimators=100, n_jobs=0, num_parallel_tree=1, random_state=0,\n",
      "              reg_alpha=0, reg_lambda=1, scale_pos_weight=1, subsample=1,\n",
      "              tree_method='exact', validate_parameters=1, verbosity=None) : \n",
      "Training ROC AUC Score :  0.9999989415570119\n",
      "Validation ROC AUC Score :  0.7930246913580248\n",
      "\n",
      "Training Accuracy :  0.9987139917695473\n",
      "Validation Accuracy :  0.5317695473251028\n",
      "\n",
      "Confusion Matrix:\n",
      "[[0.98353909 0.01646091]\n",
      " [0.92       0.08      ]]\n",
      "Recall: 0.08\n",
      "\n",
      "----------------------\n",
      "\n",
      "RandomOverSampler(random_state=0, sampling_strategy='minority') : \n",
      "___________________________________________\n",
      "LogisticRegression() : \n",
      "Training ROC AUC Score :  0.8456417683830378\n",
      "Validation ROC AUC Score :  0.8389506172839506\n",
      "\n",
      "Training Accuracy :  0.7806069958847737\n",
      "Validation Accuracy :  0.7647119341563786\n",
      "\n",
      "Confusion Matrix:\n",
      "[[0.72942387 0.27057613]\n",
      " [0.2        0.8       ]]\n",
      "Recall: 0.8\n",
      "\n",
      "----------------------\n",
      "\n",
      "DecisionTreeClassifier() : \n",
      "Training ROC AUC Score :  1.0\n",
      "Validation ROC AUC Score :  0.5425102880658437\n",
      "\n",
      "Training Accuracy :  1.0\n",
      "Validation Accuracy :  0.5425102880658437\n",
      "\n",
      "Confusion Matrix:\n",
      "[[0.96502058 0.03497942]\n",
      " [0.88       0.12      ]]\n",
      "Recall: 0.12\n",
      "\n",
      "----------------------\n",
      "\n",
      "RandomForestClassifier() : \n",
      "Training ROC AUC Score :  1.0\n",
      "Validation ROC AUC Score :  0.7667181069958848\n",
      "\n",
      "Training Accuracy :  1.0\n",
      "Validation Accuracy :  0.5348559670781894\n",
      "\n",
      "Confusion Matrix:\n",
      "[[0.98971193 0.01028807]\n",
      " [0.92       0.08      ]]\n",
      "Recall: 0.08\n",
      "\n",
      "----------------------\n",
      "\n",
      "KNeighborsClassifier() : \n",
      "Training ROC AUC Score :  1.0\n",
      "Validation ROC AUC Score :  0.606656378600823\n",
      "\n",
      "Training Accuracy :  0.9600051440329218\n",
      "Validation Accuracy :  0.5482716049382717\n",
      "\n",
      "Confusion Matrix:\n",
      "[[0.87654321 0.12345679]\n",
      " [0.78       0.22      ]]\n",
      "Recall: 0.22\n",
      "\n",
      "----------------------\n",
      "\n",
      "SVC(probability=True) : \n",
      "Training ROC AUC Score :  0.9280601439059086\n",
      "Validation ROC AUC Score :  0.781440329218107\n",
      "\n",
      "Training Accuracy :  0.8675411522633745\n",
      "Validation Accuracy :  0.7112345679012346\n",
      "\n",
      "Confusion Matrix:\n",
      "[[0.80246914 0.19753086]\n",
      " [0.38       0.62      ]]\n",
      "Recall: 0.62\n",
      "\n",
      "----------------------\n",
      "\n",
      "XGBClassifier(base_score=0.5, booster='gbtree', colsample_bylevel=1,\n",
      "              colsample_bynode=1, colsample_bytree=1, gamma=0, gpu_id=-1,\n",
      "              importance_type='gain', interaction_constraints='',\n",
      "              learning_rate=0.300000012, max_delta_step=0, max_depth=6,\n",
      "              min_child_weight=1, missing=nan, monotone_constraints='()',\n",
      "              n_estimators=100, n_jobs=0, num_parallel_tree=1, random_state=0,\n",
      "              reg_alpha=0, reg_lambda=1, scale_pos_weight=1, subsample=1,\n",
      "              tree_method='exact', validate_parameters=1, verbosity=None) : \n",
      "Training ROC AUC Score :  0.9999999999999999\n",
      "Validation ROC AUC Score :  0.7763374485596708\n",
      "\n",
      "Training Accuracy :  0.9992283950617283\n",
      "Validation Accuracy :  0.5683950617283952\n",
      "\n",
      "Confusion Matrix:\n",
      "[[0.95679012 0.04320988]\n",
      " [0.82       0.18      ]]\n",
      "Recall: 0.18\n",
      "\n",
      "----------------------\n",
      "\n"
     ]
    }
   ],
   "source": [
    "recall_scores= []\n",
    "\n",
    "smote = SMOTE(random_state=0)\n",
    "ros = RandomOverSampler(sampling_strategy='minority', random_state=0)\n",
    "\n",
    "oversampling_techniques = [smote, ros]\n",
    "\n",
    "for technique in oversampling_techniques:\n",
    "    \n",
    "    print(f'{technique} : ')\n",
    "    print(\"___________________________________________\")\n",
    "    \n",
    "    X_resampled, Y_resampled = technique.fit_resample(X_train, Y_train)\n",
    "\n",
    "    scaler = StandardScaler()\n",
    "    X_train_scaled = scaler.fit_transform(X_resampled)\n",
    "    X_val_scaled = scaler.transform(X_val)\n",
    "\n",
    "    X_train_scaled.shape, Y_resampled.shape\n",
    "\n",
    "\n",
    "    models = [LogisticRegression(), \n",
    "              DecisionTreeClassifier(), \n",
    "              RandomForestClassifier(), \n",
    "              KNeighborsClassifier(), \n",
    "              SVC(kernel='rbf', probability=True),\n",
    "              XGBClassifier()]\n",
    "\n",
    "    for model in models:\n",
    "        model.fit(X_train_scaled, Y_resampled)\n",
    "\n",
    "        print(f'{model} : ')\n",
    "\n",
    "        train_preds_proba = model.predict_proba(X_train_scaled)[:, 1]\n",
    "        print('Training ROC AUC Score : ', ras(Y_resampled, train_preds_proba))\n",
    "\n",
    "        val_preds_proba = model.predict_proba(X_val_scaled)[:, 1]\n",
    "        print('Validation ROC AUC Score : ', ras(Y_val, val_preds_proba))\n",
    "        print()\n",
    "\n",
    "        train_preds = model.predict(X_train_scaled)\n",
    "        print('Training Accuracy : ', ras(Y_resampled, train_preds))\n",
    "\n",
    "        val_preds = model.predict(X_val_scaled)\n",
    "        print('Validation Accuracy : ', ras(Y_val, val_preds))\n",
    "        print()\n",
    "\n",
    "        conf_matrix = confusion_matrix(Y_val, val_preds, normalize='true')\n",
    "\n",
    "        print(\"Confusion Matrix:\")\n",
    "        print(conf_matrix)\n",
    "\n",
    "        test_recall = recall_score(Y_val, val_preds)\n",
    "        recall_scores.append(test_recall)\n",
    "        print(f\"Recall: {test_recall}\")\n",
    "\n",
    "        print(\"\")\n",
    "        print(\"----------------------\")\n",
    "        print(\"\")"
   ]
  },
  {
   "cell_type": "markdown",
   "metadata": {},
   "source": [
    "Our logistic regression model using SMOTE seems to be fitting the best with regard to **accuracy (78.5% training, 76.9% validation)** and **recall (80%)** so we'll use that model. "
   ]
  },
  {
   "cell_type": "code",
   "execution_count": 27,
   "metadata": {},
   "outputs": [
    {
     "data": {
      "text/plain": [
       "((7776, 15), (7776,))"
      ]
     },
     "execution_count": 27,
     "metadata": {},
     "output_type": "execute_result"
    }
   ],
   "source": [
    "X_resampled, Y_resampled = smote.fit_resample(X_train, Y_train)\n",
    "\n",
    "scaler = StandardScaler()\n",
    "X_train_scaled = scaler.fit_transform(X_resampled)\n",
    "X_val_scaled = scaler.transform(X_val)\n",
    "\n",
    "X_train_scaled.shape, Y_resampled.shape"
   ]
  },
  {
   "cell_type": "markdown",
   "metadata": {},
   "source": [
    "## Picking the best model"
   ]
  },
  {
   "cell_type": "markdown",
   "metadata": {},
   "source": [
    "Given our business problem -- performing inferential statistics on stroke patients for a government awareness campaign -- we are mostly interested in patients **who HAVE experienced a stroke**. Therefore, the best model for us appears to be the **logistic regression model**. Let's finally tune the model using grid_search to get the optimal parameters for recall, while maintaining a good accuracy score. "
   ]
  },
  {
   "cell_type": "code",
   "execution_count": 28,
   "metadata": {},
   "outputs": [
    {
     "name": "stdout",
     "output_type": "stream",
     "text": [
      "Best Parameters (Recall): {'C': 0.001, 'class_weight': None, 'max_iter': 100, 'penalty': 'l1', 'solver': 'liblinear'}\n",
      "Best Recall Score: 0.8629130999390453\n",
      "Best Parameters (Accuracy): 0.001\n",
      "Best Accuracy Score: nan\n",
      "Test Recall Score: 0.84\n",
      "Test Accuracy Score: 0.6868884540117417\n"
     ]
    }
   ],
   "source": [
    "# Define the parameter grid\n",
    "param_grid = {\n",
    "    'penalty': ['l1', 'l2', 'elasticnet'],\n",
    "    'C': [0.001, 0.01, 0.1, 1, 10, 100],\n",
    "    'solver': ['newton-cg', 'lbfgs', 'liblinear', 'sag', 'saga'],\n",
    "    'max_iter': [100, 500, 1000],\n",
    "    'class_weight': [None, 'balanced']\n",
    "}\n",
    "\n",
    "# Define the scoring metrics (recall and accuracy)\n",
    "scoring = {\n",
    "    'Accuracy': make_scorer(accuracy_score),\n",
    "    'Recall': make_scorer(recall_score)\n",
    "}\n",
    "\n",
    "# Create the GridSearchCV object\n",
    "lr_model = LogisticRegression() \n",
    "grid_search = GridSearchCV(\n",
    "    estimator=lr_model,\n",
    "    param_grid=param_grid,\n",
    "    scoring=scoring,\n",
    "    refit='Recall',  # Refit based on Recall\n",
    "    cv=10,  # Number of cross-validation folds\n",
    ")\n",
    "\n",
    "# Fit the grid search to the data\n",
    "grid_search.fit(X_train_scaled, Y_resampled)\n",
    "\n",
    "# Print the best parameters and corresponding scores for both accuracy and recall\n",
    "print(\"Best Parameters (Recall):\", grid_search.best_params_)\n",
    "print(\"Best Recall Score:\", grid_search.best_score_)\n",
    "\n",
    "# Access the accuracy results\n",
    "accuracy_results = grid_search.cv_results_['mean_test_Accuracy']\n",
    "print(\"Best Parameters (Accuracy):\", param_grid[\"C\"][accuracy_results.argmax()])\n",
    "print(\"Best Accuracy Score:\", accuracy_results.max())\n",
    "\n",
    "# Evaluate the model on the test set using the best parameters for recall\n",
    "best_model_recall = grid_search.best_estimator_\n",
    "y_pred_recall = best_model_recall.predict(X_val_scaled)\n",
    "test_recall = recall_score(Y_val, y_pred_recall)\n",
    "print(\"Test Recall Score:\", test_recall)\n",
    "\n",
    "# Evaluate the model on the test set using the best parameters for accuracy\n",
    "best_model_accuracy = grid_search.best_estimator_\n",
    "y_pred_accuracy = best_model_accuracy.predict(X_val_scaled)\n",
    "test_accuracy = accuracy_score(Y_val, y_pred_accuracy)\n",
    "print(\"Test Accuracy Score:\", test_accuracy)"
   ]
  },
  {
   "cell_type": "code",
   "execution_count": 29,
   "metadata": {},
   "outputs": [
    {
     "name": "stdout",
     "output_type": "stream",
     "text": [
      "Recall: 0.84\n",
      "Train Accuracy: 0.7700617283950617\n",
      "Test Accuracy: 0.6868884540117417\n",
      "Confusion Matrix:\n",
      "[[660 312]\n",
      " [  8  42]]\n"
     ]
    }
   ],
   "source": [
    "best_model = LogisticRegression(\n",
    "    penalty='l1',\n",
    "    C=0.001,\n",
    "    class_weight=None,\n",
    "    max_iter=100,\n",
    "    solver='liblinear',\n",
    "    random_state=42 \n",
    ")\n",
    "\n",
    "# Fit the model to your entire training dataset\n",
    "best_model.fit(X_train_scaled, Y_resampled)\n",
    "\n",
    "# using best_recall_model for predictions on new data\n",
    "y_pred = best_model.predict(X_val_scaled)\n",
    "y_pred_train = best_model.predict(X_train_scaled)\n",
    "test_recall = recall_score(Y_val, y_pred)\n",
    "train_accuracy = accuracy_score(Y_resampled, y_pred_train)\n",
    "test_accuracy = accuracy_score(Y_val, y_pred)\n",
    "conf_matrix = confusion_matrix(Y_val, y_pred)\n",
    "\n",
    "print(f\"Recall: {test_recall}\")\n",
    "print(f\"Train Accuracy: {train_accuracy}\")\n",
    "print(f\"Test Accuracy: {test_accuracy}\")\n",
    "print(\"Confusion Matrix:\")\n",
    "print(conf_matrix)"
   ]
  },
  {
   "cell_type": "markdown",
   "metadata": {},
   "source": [
    "Tuning our parameters increased our recall by 4% and our model now correctly predicts 84% of the stroke patients, while still predicting a significant amount of non-stroke patients. With this model, we can start learning more about what factors are correlated to strokes."
   ]
  },
  {
   "cell_type": "markdown",
   "metadata": {},
   "source": [
    "## Feature importance"
   ]
  },
  {
   "cell_type": "code",
   "execution_count": 30,
   "metadata": {},
   "outputs": [
    {
     "name": "stdout",
     "output_type": "stream",
     "text": [
      "Feature Importance:\n"
     ]
    },
    {
     "data": {
      "text/html": [
       "<div>\n",
       "<style scoped>\n",
       "    .dataframe tbody tr th:only-of-type {\n",
       "        vertical-align: middle;\n",
       "    }\n",
       "\n",
       "    .dataframe tbody tr th {\n",
       "        vertical-align: top;\n",
       "    }\n",
       "\n",
       "    .dataframe thead th {\n",
       "        text-align: right;\n",
       "    }\n",
       "</style>\n",
       "<table border=\"1\" class=\"dataframe\">\n",
       "  <thead>\n",
       "    <tr style=\"text-align: right;\">\n",
       "      <th></th>\n",
       "      <th>Feature</th>\n",
       "      <th>Coefficient</th>\n",
       "      <th>Odds Ratio</th>\n",
       "    </tr>\n",
       "  </thead>\n",
       "  <tbody>\n",
       "    <tr>\n",
       "      <th>11</th>\n",
       "      <td>age</td>\n",
       "      <td>0.748417</td>\n",
       "      <td>2.113652</td>\n",
       "    </tr>\n",
       "    <tr>\n",
       "      <th>0</th>\n",
       "      <td>bmi</td>\n",
       "      <td>0.000000</td>\n",
       "      <td>1.000000</td>\n",
       "    </tr>\n",
       "    <tr>\n",
       "      <th>1</th>\n",
       "      <td>gender_Male</td>\n",
       "      <td>0.000000</td>\n",
       "      <td>1.000000</td>\n",
       "    </tr>\n",
       "    <tr>\n",
       "      <th>2</th>\n",
       "      <td>ever_married_Yes</td>\n",
       "      <td>0.000000</td>\n",
       "      <td>1.000000</td>\n",
       "    </tr>\n",
       "    <tr>\n",
       "      <th>3</th>\n",
       "      <td>work_type_Never_worked</td>\n",
       "      <td>0.000000</td>\n",
       "      <td>1.000000</td>\n",
       "    </tr>\n",
       "    <tr>\n",
       "      <th>4</th>\n",
       "      <td>work_type_Private</td>\n",
       "      <td>0.000000</td>\n",
       "      <td>1.000000</td>\n",
       "    </tr>\n",
       "    <tr>\n",
       "      <th>5</th>\n",
       "      <td>work_type_Self-employed</td>\n",
       "      <td>0.000000</td>\n",
       "      <td>1.000000</td>\n",
       "    </tr>\n",
       "    <tr>\n",
       "      <th>6</th>\n",
       "      <td>work_type_children</td>\n",
       "      <td>0.000000</td>\n",
       "      <td>1.000000</td>\n",
       "    </tr>\n",
       "    <tr>\n",
       "      <th>7</th>\n",
       "      <td>Residence_type_Urban</td>\n",
       "      <td>0.000000</td>\n",
       "      <td>1.000000</td>\n",
       "    </tr>\n",
       "    <tr>\n",
       "      <th>8</th>\n",
       "      <td>smoking_status_formerly smoked</td>\n",
       "      <td>0.000000</td>\n",
       "      <td>1.000000</td>\n",
       "    </tr>\n",
       "    <tr>\n",
       "      <th>9</th>\n",
       "      <td>smoking_status_never smoked</td>\n",
       "      <td>0.000000</td>\n",
       "      <td>1.000000</td>\n",
       "    </tr>\n",
       "    <tr>\n",
       "      <th>10</th>\n",
       "      <td>smoking_status_smokes</td>\n",
       "      <td>0.000000</td>\n",
       "      <td>1.000000</td>\n",
       "    </tr>\n",
       "    <tr>\n",
       "      <th>12</th>\n",
       "      <td>hypertension</td>\n",
       "      <td>0.000000</td>\n",
       "      <td>1.000000</td>\n",
       "    </tr>\n",
       "    <tr>\n",
       "      <th>13</th>\n",
       "      <td>heart_disease</td>\n",
       "      <td>0.000000</td>\n",
       "      <td>1.000000</td>\n",
       "    </tr>\n",
       "    <tr>\n",
       "      <th>14</th>\n",
       "      <td>avg_glucose_level</td>\n",
       "      <td>0.000000</td>\n",
       "      <td>1.000000</td>\n",
       "    </tr>\n",
       "  </tbody>\n",
       "</table>\n",
       "</div>"
      ],
      "text/plain": [
       "                           Feature  Coefficient  Odds Ratio\n",
       "11                             age     0.748417    2.113652\n",
       "0                              bmi     0.000000    1.000000\n",
       "1                      gender_Male     0.000000    1.000000\n",
       "2                 ever_married_Yes     0.000000    1.000000\n",
       "3           work_type_Never_worked     0.000000    1.000000\n",
       "4                work_type_Private     0.000000    1.000000\n",
       "5          work_type_Self-employed     0.000000    1.000000\n",
       "6               work_type_children     0.000000    1.000000\n",
       "7             Residence_type_Urban     0.000000    1.000000\n",
       "8   smoking_status_formerly smoked     0.000000    1.000000\n",
       "9      smoking_status_never smoked     0.000000    1.000000\n",
       "10           smoking_status_smokes     0.000000    1.000000\n",
       "12                    hypertension     0.000000    1.000000\n",
       "13                   heart_disease     0.000000    1.000000\n",
       "14               avg_glucose_level     0.000000    1.000000"
      ]
     },
     "execution_count": 30,
     "metadata": {},
     "output_type": "execute_result"
    }
   ],
   "source": [
    "# Retrieve the coefficients and feature names\n",
    "coefficients = best_model.coef_[0]\n",
    "feature_names = X_train.columns\n",
    "\n",
    "# Create a DataFrame to display the coefficients and feature names\n",
    "feature_importance_df = pd.DataFrame({\n",
    "    'Feature': feature_names,\n",
    "    'Coefficient': coefficients,\n",
    "    'Odds Ratio': np.exp(coefficients)\n",
    "})\n",
    "\n",
    "# Sort the DataFrame by the absolute value of coefficients to highlight the most impactful features\n",
    "feature_importance_df = feature_importance_df.reindex(feature_importance_df['Coefficient'].abs().sort_values(ascending=False).index)\n",
    "\n",
    "# Display the feature importance DataFrame\n",
    "print(\"Feature Importance:\")\n",
    "feature_importance_df"
   ]
  },
  {
   "cell_type": "code",
   "execution_count": 31,
   "metadata": {},
   "outputs": [
    {
     "data": {
      "image/png": "[encoded data removed]",
      "text/plain": [
       "<Figure size 864x576 with 1 Axes>"
      ]
     },
     "metadata": {
      "needs_background": "light"
     },
     "output_type": "display_data"
    }
   ],
   "source": [
    "import seaborn as sns\n",
    "\n",
    "x=feature_importance_df['Feature']\n",
    "y=feature_importance_df['Coefficient']\n",
    "\n",
    "fig, ax = plt.subplots(figsize=(12, 8))\n",
    "\n",
    "colors = ['pink' if _y >=0 else 'red' for _y in y]\n",
    "ax = sns.barplot(x, y, palette=colors)\n",
    "\n",
    "ax.set_ylabel(\"Coefficient Values\", fontweight='bold')\n",
    "ax.set_xlabel(\"Column Names\", fontweight='bold')\n",
    "ax.set_title(\"Feature Importance by Column\", fontweight='bold')\n",
    "ax.tick_params (axis='x', labelrotation=50)\n",
    "\n",
    "sns.despine(ax=ax, bottom=True, left=True)\n",
    "plt.show()"
   ]
  },
  {
   "cell_type": "markdown",
   "metadata": {},
   "source": [
    "This is disappointing. Our tuned model is not generalized enough, and only uses the strongest correlated feature, age. Let's go back to the base model. "
   ]
  },
  {
   "cell_type": "code",
   "execution_count": 32,
   "metadata": {},
   "outputs": [
    {
     "name": "stdout",
     "output_type": "stream",
     "text": [
      "Recall: 0.8\n",
      "Train Accuracy: 0.785108024691358\n",
      "Test Accuracy: 0.7426614481409002\n",
      "Confusion Matrix:\n",
      "[[719 253]\n",
      " [ 10  40]]\n"
     ]
    }
   ],
   "source": [
    "lr_model = LogisticRegression()\n",
    "\n",
    "# Fit the model to your entire training dataset\n",
    "lr_model.fit(X_train_scaled, Y_resampled)\n",
    "\n",
    "# using best_recall_model for predictions on new data\n",
    "y_pred = lr_model.predict(X_val_scaled)\n",
    "y_pred_train = lr_model.predict(X_train_scaled)\n",
    "test_recall = recall_score(Y_val, y_pred)\n",
    "train_accuracy = accuracy_score(Y_resampled, y_pred_train)\n",
    "test_accuracy = accuracy_score(Y_val, y_pred)\n",
    "conf_matrix = confusion_matrix(Y_val, y_pred)\n",
    "\n",
    "print(f\"Recall: {test_recall}\")\n",
    "print(f\"Train Accuracy: {train_accuracy}\")\n",
    "print(f\"Test Accuracy: {test_accuracy}\")\n",
    "print(\"Confusion Matrix:\")\n",
    "print(conf_matrix)"
   ]
  },
  {
   "cell_type": "code",
   "execution_count": 33,
   "metadata": {},
   "outputs": [
    {
     "name": "stdout",
     "output_type": "stream",
     "text": [
      "Feature Importance:\n"
     ]
    },
    {
     "data": {
      "text/html": [
       "<div>\n",
       "<style scoped>\n",
       "    .dataframe tbody tr th:only-of-type {\n",
       "        vertical-align: middle;\n",
       "    }\n",
       "\n",
       "    .dataframe tbody tr th {\n",
       "        vertical-align: top;\n",
       "    }\n",
       "\n",
       "    .dataframe thead th {\n",
       "        text-align: right;\n",
       "    }\n",
       "</style>\n",
       "<table border=\"1\" class=\"dataframe\">\n",
       "  <thead>\n",
       "    <tr style=\"text-align: right;\">\n",
       "      <th></th>\n",
       "      <th>Feature</th>\n",
       "      <th>Coefficient</th>\n",
       "      <th>Odds Ratio</th>\n",
       "    </tr>\n",
       "  </thead>\n",
       "  <tbody>\n",
       "    <tr>\n",
       "      <th>11</th>\n",
       "      <td>age</td>\n",
       "      <td>1.932769</td>\n",
       "      <td>6.908611</td>\n",
       "    </tr>\n",
       "    <tr>\n",
       "      <th>12</th>\n",
       "      <td>hypertension</td>\n",
       "      <td>0.260568</td>\n",
       "      <td>1.297667</td>\n",
       "    </tr>\n",
       "    <tr>\n",
       "      <th>14</th>\n",
       "      <td>avg_glucose_level</td>\n",
       "      <td>0.236312</td>\n",
       "      <td>1.266569</td>\n",
       "    </tr>\n",
       "    <tr>\n",
       "      <th>6</th>\n",
       "      <td>work_type_children</td>\n",
       "      <td>0.187855</td>\n",
       "      <td>1.206658</td>\n",
       "    </tr>\n",
       "    <tr>\n",
       "      <th>3</th>\n",
       "      <td>work_type_Never_worked</td>\n",
       "      <td>-0.173069</td>\n",
       "      <td>0.841080</td>\n",
       "    </tr>\n",
       "    <tr>\n",
       "      <th>10</th>\n",
       "      <td>smoking_status_smokes</td>\n",
       "      <td>0.171320</td>\n",
       "      <td>1.186871</td>\n",
       "    </tr>\n",
       "    <tr>\n",
       "      <th>5</th>\n",
       "      <td>work_type_Self-employed</td>\n",
       "      <td>-0.160860</td>\n",
       "      <td>0.851412</td>\n",
       "    </tr>\n",
       "    <tr>\n",
       "      <th>7</th>\n",
       "      <td>Residence_type_Urban</td>\n",
       "      <td>0.092704</td>\n",
       "      <td>1.097137</td>\n",
       "    </tr>\n",
       "    <tr>\n",
       "      <th>9</th>\n",
       "      <td>smoking_status_never smoked</td>\n",
       "      <td>-0.082595</td>\n",
       "      <td>0.920724</td>\n",
       "    </tr>\n",
       "    <tr>\n",
       "      <th>8</th>\n",
       "      <td>smoking_status_formerly smoked</td>\n",
       "      <td>0.055991</td>\n",
       "      <td>1.057588</td>\n",
       "    </tr>\n",
       "    <tr>\n",
       "      <th>2</th>\n",
       "      <td>ever_married_Yes</td>\n",
       "      <td>-0.053991</td>\n",
       "      <td>0.947441</td>\n",
       "    </tr>\n",
       "    <tr>\n",
       "      <th>13</th>\n",
       "      <td>heart_disease</td>\n",
       "      <td>0.045200</td>\n",
       "      <td>1.046237</td>\n",
       "    </tr>\n",
       "    <tr>\n",
       "      <th>1</th>\n",
       "      <td>gender_Male</td>\n",
       "      <td>-0.020580</td>\n",
       "      <td>0.979631</td>\n",
       "    </tr>\n",
       "    <tr>\n",
       "      <th>0</th>\n",
       "      <td>bmi</td>\n",
       "      <td>0.009842</td>\n",
       "      <td>1.009890</td>\n",
       "    </tr>\n",
       "    <tr>\n",
       "      <th>4</th>\n",
       "      <td>work_type_Private</td>\n",
       "      <td>0.004067</td>\n",
       "      <td>1.004075</td>\n",
       "    </tr>\n",
       "  </tbody>\n",
       "</table>\n",
       "</div>"
      ],
      "text/plain": [
       "                           Feature  Coefficient  Odds Ratio\n",
       "11                             age     1.932769    6.908611\n",
       "12                    hypertension     0.260568    1.297667\n",
       "14               avg_glucose_level     0.236312    1.266569\n",
       "6               work_type_children     0.187855    1.206658\n",
       "3           work_type_Never_worked    -0.173069    0.841080\n",
       "10           smoking_status_smokes     0.171320    1.186871\n",
       "5          work_type_Self-employed    -0.160860    0.851412\n",
       "7             Residence_type_Urban     0.092704    1.097137\n",
       "9      smoking_status_never smoked    -0.082595    0.920724\n",
       "8   smoking_status_formerly smoked     0.055991    1.057588\n",
       "2                 ever_married_Yes    -0.053991    0.947441\n",
       "13                   heart_disease     0.045200    1.046237\n",
       "1                      gender_Male    -0.020580    0.979631\n",
       "0                              bmi     0.009842    1.009890\n",
       "4                work_type_Private     0.004067    1.004075"
      ]
     },
     "execution_count": 33,
     "metadata": {},
     "output_type": "execute_result"
    }
   ],
   "source": [
    "# Retrieve the coefficients and feature names\n",
    "coefficients = lr_model.coef_[0]\n",
    "feature_names = X_train.columns\n",
    "\n",
    "# Create a DataFrame to display the coefficients and feature names\n",
    "feature_importance_df = pd.DataFrame({\n",
    "    'Feature': feature_names,\n",
    "    'Coefficient': coefficients,\n",
    "    'Odds Ratio': np.exp(coefficients)\n",
    "})\n",
    "\n",
    "# Sort the DataFrame by the absolute value of coefficients to highlight the most impactful features\n",
    "feature_importance_df = feature_importance_df.reindex(feature_importance_df['Coefficient'].abs().sort_values(ascending=False).index)\n",
    "\n",
    "# Display the feature importance DataFrame\n",
    "print(\"Feature Importance:\")\n",
    "feature_importance_df"
   ]
  },
  {
   "cell_type": "code",
   "execution_count": 34,
   "metadata": {},
   "outputs": [
    {
     "data": {
      "image/png": "[encoded data removed]",
      "text/plain": [
       "<Figure size 864x576 with 1 Axes>"
      ]
     },
     "metadata": {
      "needs_background": "light"
     },
     "output_type": "display_data"
    }
   ],
   "source": [
    "import seaborn as sns\n",
    "\n",
    "x=feature_importance_df['Feature']\n",
    "y=feature_importance_df['Coefficient']\n",
    "\n",
    "fig, ax = plt.subplots(figsize=(12, 8))\n",
    "\n",
    "colors = ['pink' if _y >=0 else 'red' for _y in y]\n",
    "ax = sns.barplot(x, y, palette=colors)\n",
    "\n",
    "ax.set_ylabel(\"Coefficient Values\", fontweight='bold')\n",
    "ax.set_xlabel(\"Column Names\", fontweight='bold')\n",
    "ax.set_title(\"Feature Importance by Column\", fontweight='bold')\n",
    "ax.tick_params (axis='x', labelrotation=50)\n",
    "\n",
    "sns.despine(ax=ax, bottom=True, left=True)\n",
    "plt.show()"
   ]
  },
  {
   "cell_type": "code",
   "execution_count": null,
   "metadata": {},
   "outputs": [],
   "source": []
  },
  {
   "cell_type": "code",
   "execution_count": 35,
   "metadata": {},
   "outputs": [],
   "source": [
    "val_probs = lr_model.predict_proba(X_val_scaled)[:, 1]\n",
    "val_probs = pd.DataFrame(val_probs, columns=[\"predictions\"])"
   ]
  },
  {
   "cell_type": "code",
   "execution_count": 36,
   "metadata": {
    "scrolled": true
   },
   "outputs": [
    {
     "data": {
      "text/html": [
       "<div>\n",
       "<style scoped>\n",
       "    .dataframe tbody tr th:only-of-type {\n",
       "        vertical-align: middle;\n",
       "    }\n",
       "\n",
       "    .dataframe tbody tr th {\n",
       "        vertical-align: top;\n",
       "    }\n",
       "\n",
       "    .dataframe thead th {\n",
       "        text-align: right;\n",
       "    }\n",
       "</style>\n",
       "<table border=\"1\" class=\"dataframe\">\n",
       "  <thead>\n",
       "    <tr style=\"text-align: right;\">\n",
       "      <th></th>\n",
       "      <th></th>\n",
       "      <th>bmi</th>\n",
       "      <th>work_type_Never_worked</th>\n",
       "      <th>work_type_Private</th>\n",
       "      <th>work_type_Self-employed</th>\n",
       "      <th>work_type_children</th>\n",
       "      <th>Residence_type_Urban</th>\n",
       "      <th>smoking_status_formerly smoked</th>\n",
       "      <th>smoking_status_never smoked</th>\n",
       "      <th>smoking_status_smokes</th>\n",
       "      <th>age</th>\n",
       "      <th>hypertension</th>\n",
       "      <th>heart_disease</th>\n",
       "      <th>avg_glucose_level</th>\n",
       "      <th>predictions</th>\n",
       "    </tr>\n",
       "    <tr>\n",
       "      <th>gender_Male</th>\n",
       "      <th>ever_married_Yes</th>\n",
       "      <th></th>\n",
       "      <th></th>\n",
       "      <th></th>\n",
       "      <th></th>\n",
       "      <th></th>\n",
       "      <th></th>\n",
       "      <th></th>\n",
       "      <th></th>\n",
       "      <th></th>\n",
       "      <th></th>\n",
       "      <th></th>\n",
       "      <th></th>\n",
       "      <th></th>\n",
       "      <th></th>\n",
       "    </tr>\n",
       "  </thead>\n",
       "  <tbody>\n",
       "    <tr>\n",
       "      <th rowspan=\"2\" valign=\"top\">0.0</th>\n",
       "      <th>0.0</th>\n",
       "      <td>25.877941</td>\n",
       "      <td>0.014706</td>\n",
       "      <td>0.549020</td>\n",
       "      <td>0.049020</td>\n",
       "      <td>0.318627</td>\n",
       "      <td>0.563725</td>\n",
       "      <td>0.068627</td>\n",
       "      <td>0.328431</td>\n",
       "      <td>0.147059</td>\n",
       "      <td>24.129412</td>\n",
       "      <td>0.039216</td>\n",
       "      <td>0.014706</td>\n",
       "      <td>97.474216</td>\n",
       "      <td>0.122815</td>\n",
       "    </tr>\n",
       "    <tr>\n",
       "      <th>1.0</th>\n",
       "      <td>30.661832</td>\n",
       "      <td>0.000000</td>\n",
       "      <td>0.608142</td>\n",
       "      <td>0.211196</td>\n",
       "      <td>0.000000</td>\n",
       "      <td>0.508906</td>\n",
       "      <td>0.190840</td>\n",
       "      <td>0.450382</td>\n",
       "      <td>0.185751</td>\n",
       "      <td>53.732824</td>\n",
       "      <td>0.127226</td>\n",
       "      <td>0.033079</td>\n",
       "      <td>110.121476</td>\n",
       "      <td>0.418206</td>\n",
       "    </tr>\n",
       "    <tr>\n",
       "      <th rowspan=\"2\" valign=\"top\">1.0</th>\n",
       "      <th>0.0</th>\n",
       "      <td>25.244444</td>\n",
       "      <td>0.018519</td>\n",
       "      <td>0.444444</td>\n",
       "      <td>0.080247</td>\n",
       "      <td>0.413580</td>\n",
       "      <td>0.561728</td>\n",
       "      <td>0.104938</td>\n",
       "      <td>0.228395</td>\n",
       "      <td>0.098765</td>\n",
       "      <td>21.880000</td>\n",
       "      <td>0.030864</td>\n",
       "      <td>0.024691</td>\n",
       "      <td>98.058704</td>\n",
       "      <td>0.113433</td>\n",
       "    </tr>\n",
       "    <tr>\n",
       "      <th>1.0</th>\n",
       "      <td>31.155513</td>\n",
       "      <td>0.000000</td>\n",
       "      <td>0.673004</td>\n",
       "      <td>0.186312</td>\n",
       "      <td>0.000000</td>\n",
       "      <td>0.517110</td>\n",
       "      <td>0.239544</td>\n",
       "      <td>0.346008</td>\n",
       "      <td>0.205323</td>\n",
       "      <td>55.045627</td>\n",
       "      <td>0.182510</td>\n",
       "      <td>0.091255</td>\n",
       "      <td>115.703764</td>\n",
       "      <td>0.450901</td>\n",
       "    </tr>\n",
       "  </tbody>\n",
       "</table>\n",
       "</div>"
      ],
      "text/plain": [
       "                                    bmi  work_type_Never_worked  \\\n",
       "gender_Male ever_married_Yes                                      \n",
       "0.0         0.0               25.877941                0.014706   \n",
       "            1.0               30.661832                0.000000   \n",
       "1.0         0.0               25.244444                0.018519   \n",
       "            1.0               31.155513                0.000000   \n",
       "\n",
       "                              work_type_Private  work_type_Self-employed  \\\n",
       "gender_Male ever_married_Yes                                               \n",
       "0.0         0.0                        0.549020                 0.049020   \n",
       "            1.0                        0.608142                 0.211196   \n",
       "1.0         0.0                        0.444444                 0.080247   \n",
       "            1.0                        0.673004                 0.186312   \n",
       "\n",
       "                              work_type_children  Residence_type_Urban  \\\n",
       "gender_Male ever_married_Yes                                             \n",
       "0.0         0.0                         0.318627              0.563725   \n",
       "            1.0                         0.000000              0.508906   \n",
       "1.0         0.0                         0.413580              0.561728   \n",
       "            1.0                         0.000000              0.517110   \n",
       "\n",
       "                              smoking_status_formerly smoked  \\\n",
       "gender_Male ever_married_Yes                                   \n",
       "0.0         0.0                                     0.068627   \n",
       "            1.0                                     0.190840   \n",
       "1.0         0.0                                     0.104938   \n",
       "            1.0                                     0.239544   \n",
       "\n",
       "                              smoking_status_never smoked  \\\n",
       "gender_Male ever_married_Yes                                \n",
       "0.0         0.0                                  0.328431   \n",
       "            1.0                                  0.450382   \n",
       "1.0         0.0                                  0.228395   \n",
       "            1.0                                  0.346008   \n",
       "\n",
       "                              smoking_status_smokes        age  hypertension  \\\n",
       "gender_Male ever_married_Yes                                                   \n",
       "0.0         0.0                            0.147059  24.129412      0.039216   \n",
       "            1.0                            0.185751  53.732824      0.127226   \n",
       "1.0         0.0                            0.098765  21.880000      0.030864   \n",
       "            1.0                            0.205323  55.045627      0.182510   \n",
       "\n",
       "                              heart_disease  avg_glucose_level  predictions  \n",
       "gender_Male ever_married_Yes                                                 \n",
       "0.0         0.0                    0.014706          97.474216     0.122815  \n",
       "            1.0                    0.033079         110.121476     0.418206  \n",
       "1.0         0.0                    0.024691          98.058704     0.113433  \n",
       "            1.0                    0.091255         115.703764     0.450901  "
      ]
     },
     "execution_count": 36,
     "metadata": {},
     "output_type": "execute_result"
    }
   ],
   "source": [
    "df_results = pd.concat([X_val.reset_index(), val_probs.reset_index()], axis=1)\n",
    "df_results.drop(\"index\", axis=1, inplace=True)\n",
    "df_results.groupby([\"gender_Male\", \"ever_married_Yes\"]).mean()"
   ]
  },
  {
   "cell_type": "code",
   "execution_count": 39,
   "metadata": {},
   "outputs": [
    {
     "data": {
      "text/plain": [
       "(0.08, 82.0)"
      ]
     },
     "execution_count": 39,
     "metadata": {},
     "output_type": "execute_result"
    }
   ],
   "source": [
    "df_results['age'].min(), df_results['age'].max()"
   ]
  },
  {
   "cell_type": "code",
   "execution_count": 38,
   "metadata": {},
   "outputs": [
    {
     "data": {
      "text/plain": [
       "(array([ 92.,  69.,  82., 102., 120., 118., 134., 124.,  66., 115.]),\n",
       " array([8.0000e-02, 8.2720e+00, 1.6464e+01, 2.4656e+01, 3.2848e+01,\n",
       "        4.1040e+01, 4.9232e+01, 5.7424e+01, 6.5616e+01, 7.3808e+01,\n",
       "        8.2000e+01]),\n",
       " <BarContainer object of 10 artists>)"
      ]
     },
     "execution_count": 38,
     "metadata": {},
     "output_type": "execute_result"
    },
    {
     "data": {
      "image/png": "[encoded data removed]",
      "text/plain": [
       "<Figure size 432x288 with 1 Axes>"
      ]
     },
     "metadata": {
      "needs_background": "light"
     },
     "output_type": "display_data"
    }
   ],
   "source": [
    "plt.hist(df_results[\"age\"])"
   ]
  },
  {
   "cell_type": "markdown",
   "metadata": {},
   "source": [
    "We could also try dropping age from our dataset to increase the importance of the other features. "
   ]
  },
  {
   "cell_type": "code",
   "execution_count": null,
   "metadata": {},
   "outputs": [],
   "source": []
  }
 ],
 "metadata": {
  "kernelspec": {
   "display_name": "Python (learn-env)",
   "language": "python",
   "name": "learn-env"
  },
  "language_info": {
   "codemirror_mode": {
    "name": "ipython",
    "version": 3
   },
   "file_extension": ".py",
   "mimetype": "text/x-python",
   "name": "python",
   "nbconvert_exporter": "python",
   "pygments_lexer": "ipython3",
   "version": "3.8.5"
  }
 },
 "nbformat": 4,
 "nbformat_minor": 5
}
